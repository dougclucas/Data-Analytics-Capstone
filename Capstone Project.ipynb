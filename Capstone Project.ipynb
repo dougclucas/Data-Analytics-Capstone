{
 "cells": [
  {
   "cell_type": "markdown",
   "metadata": {},
   "source": [
    "# IBM Data Science Capstone Project"
   ]
  },
  {
   "cell_type": "markdown",
   "metadata": {},
   "source": [
    "## Introduction"
   ]
  },
  {
   "cell_type": "markdown",
   "metadata": {},
   "source": [
    "    Coronavirus or Covid-19 emerged in late 2019 and has quickly spread around the globe.  It is a virus that usually causes flu-like symptoms but can cause more advanced complications for patients that have preexisting conditions or potentially even be fatal.  The World Health Organization classified the outbreak as a Public Health Emergency on January 30th, 2020.  It was later upgraded to a Global Pandemic on March 11th.\n",
    "    Due to the rapid spread of the virus, many healthcare facilities have become overrun with patients requiring intensive care.  To be able to handle the wave of patients requiring ICU beds, temporary hospitals or healthcare facilities have been assembled in cities with large outbreaks.  Evidence also suggests that communities with a lack of access to testing and healthcare facilities are more severely affected by the Covid-19 outbreak.  "
   ]
  },
  {
   "cell_type": "markdown",
   "metadata": {},
   "source": [
    "## Business Problem"
   ]
  },
  {
   "cell_type": "markdown",
   "metadata": {},
   "source": [
    "    This project will help to determine the most beneficial location to place a temporary Covid-19 testing and care facility in Toronto.  In the event of an outbreak in Toronto, a facility would be most beneficial in a neighborhood that has the least access to an existing hospital.    "
   ]
  },
  {
   "cell_type": "markdown",
   "metadata": {},
   "source": [
    "## Project Data"
   ]
  },
  {
   "cell_type": "markdown",
   "metadata": {},
   "source": [
    "    Foursquare data will be used to locate hospitals in Toronto.    Neighborhood data will be scraped from Wikipedia and joined with geospatial data for longitude and latitude coordinates of the neighborhoods.  The neighborhoods with the least proximity to healthcare facilities will be recommended for an emergency Covid-19 testing and healthcare facility."
   ]
  }
 ],
 "metadata": {
  "kernelspec": {
   "display_name": "Python",
   "language": "python",
   "name": "conda-env-python-py"
  },
  "language_info": {
   "codemirror_mode": {
    "name": "ipython",
    "version": 3
   },
   "file_extension": ".py",
   "mimetype": "text/x-python",
   "name": "python",
   "nbconvert_exporter": "python",
   "pygments_lexer": "ipython3",
   "version": "3.6.10"
  }
 },
 "nbformat": 4,
 "nbformat_minor": 4
}
